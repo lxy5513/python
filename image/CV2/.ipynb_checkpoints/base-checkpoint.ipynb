{
 "cells": [
  {
   "cell_type": "markdown",
   "metadata": {},
   "source": [
    "## 学习基本的CV2 绘图函数\n",
    "\n",
    "### 涉及的函数：cv2.line() , cv2.cicle() , cv2.rectangle() , cv2.ellipse() , cv2.putText()\n",
    "需要设置的参数：  \n",
    "img 你想要绘制的图形的那副图像  \n",
    "color 形状的颜色，以RGB为例，需要传入的元组，例（255,0,0）代表蓝色，对于灰度图只需传入灰度值  \n",
    "thickness 线条的粗细，如果给一个闭合图形设置为-1，那么这个图形就会被填充，默认值为1  \n",
    "linetype 线条的类型，8连接，抗锯齿等。默认是8连接。cv2.LINE_AA为抗锯齿"
   ]
  },
  {
   "cell_type": "code",
   "execution_count": 2,
   "metadata": {},
   "outputs": [
    {
     "data": {
      "text/plain": [
       "<Figure size 640x480 with 1 Axes>"
      ]
     },
     "metadata": {},
     "output_type": "display_data"
    }
   ],
   "source": [
    "import cv2\n",
    "import numpy as np\n",
    "import matplotlib.pyplot as plt\n",
    "\n",
    "#create a block image\n",
    "img = np.zeros((512,512,3), np.uint8)\n",
    "\n",
    "\n",
    "# 画椭圆\n",
    "'''\n",
    "params \n",
    "     image\n",
    "     center location (x,y). \n",
    "     axes lengths (major axis length, minor axis length).\n",
    "     angle is the angle of rotation of ellipse in anti-clockwise direction. \n",
    "     startAngle and endAngle denotes the starting and ending of ellipse arc measured in clockwise direction from major axis\n",
    "     color \n",
    "     thickness\n",
    "            '''\n",
    "cv2.ellipse(img,(256,256),(100,50),0,0,360,255,-1)\n",
    "plt.imshow(img)\n",
    "plt.show()\n",
    "\n",
    "\n"
   ]
  },
  {
   "cell_type": "code",
   "execution_count": 11,
   "metadata": {},
   "outputs": [
    {
     "data": {
      "image/png": "[encoded data removed]",
      "text/plain": [
       "<Figure size 432x288 with 1 Axes>"
      ]
     },
     "metadata": {
      "needs_background": "light"
     },
     "output_type": "display_data"
    }
   ],
   "source": [
    "# Create a black image\n",
    "img = np.zeros((512,512,3), np.uint8)\n",
    "\n",
    "# Draw a diagonal blue line with thickness of 5 px\n",
    "img = cv2.line(img,(0,0),(511,511),(255,0,0),5)\n",
    "\n",
    "#Drawing Rectangle\n",
    "img = cv2.rectangle(img,(384,0),(510,128),(0,255,0),3)\n",
    "\n",
    "# Drawing Circle\n",
    "img = cv2.circle(img,(447,63), 63, (0,0,255), -1)\n",
    "\n",
    "plt.imshow(img)\n",
    "plt.show()\n"
   ]
  },
  {
   "cell_type": "markdown",
   "metadata": {},
   "source": [
    "## Drawing Polygon\n",
    "\n",
    "To draw a polygon, first you need coordinates of vertices. Make those points into an array of `shape ROWSx1x2`   \n",
    "where ROWS are number of **vertices(顶点)** and it should be of type int32. Here we draw a small polygon of with four vertices in yellow color.\n",
    "\n",
    "If third argument is False, you will get a polylines joining all the points, not a closed shape.\n"
   ]
  },
  {
   "cell_type": "markdown",
   "metadata": {},
   "source": [
    "## 画出多边形和填充 "
   ]
  },
  {
   "cell_type": "code",
   "execution_count": 11,
   "metadata": {},
   "outputs": [
    {
     "name": "stdout",
     "output_type": "stream",
     "text": [
      "(4, 1, 2)\n"
     ]
    },
    {
     "data": {
      "image/png": "[encoded data removed]",
      "text/plain": [
       "<Figure size 432x288 with 1 Axes>"
      ]
     },
     "metadata": {
      "needs_background": "light"
     },
     "output_type": "display_data"
    }
   ],
   "source": [
    "img = np.zeros((512,512,3), np.uint8)\n",
    "\n",
    "pts = np.array([[10,5],[200,300],[270,200],[50,100]], np.int32)\n",
    "pts = pts.reshape((-1,1,2))\n",
    "print(pts.shape) # (4, 1, 2)\n",
    "\n",
    "pts1 = np.array([[100,500],[300,200],[370,400],[350,500]], np.int32)\n",
    "pts1 = pts1.reshape((-1,1,2))\n",
    "\n",
    "# 画出多边形形状\n",
    "'''\n",
    "polylines(img, pts, isClosed, color\n",
    "                [, thickness[, lineType[, shift]]]) → img\n",
    "            thickness – Thickness of the polyline edges.\n",
    "            lineType – Type of the line segments. See the line() description.\n",
    "            shift – Number of fractional bits in the vertex coordinates.\n",
    "'''\n",
    "img = cv2.polylines(img,[pts, pts1],True,(0,255,255), 4)\n",
    "\n",
    "# 填充颜色 \n",
    "cv2.drawContours(img, [pts], -1, (255, 0, 0), thickness=-1)\n",
    "'''\n",
    "drawContours(image, contours, contourIdx, color\n",
    "               [, thickness[, lineType[, hierarchy[, maxLevel[, offset]]]]]) \n",
    "'''\n",
    "\n",
    "\n",
    "\n",
    "plt.imshow(img)\n",
    "plt.show()"
   ]
  },
  {
   "cell_type": "markdown",
   "metadata": {},
   "source": [
    "## drawContours\n",
    "Parameters:\t\n",
    "contourIdx – Parameter indicating a contour to draw. If it is negative, all the contours are drawn.  \n",
    "color – Color of the contours.  \n",
    "thickness – Thickness of lines the contours are drawn with. If it is negative (for example, thickness=CV_FILLED ), the contour interiors are drawn.  \n",
    "lineType – Line connectivity. See line() for details.  \n",
    "hierarchy – Optional information about hierarchy. It is only needed if you want to draw only some of the contours (see maxLevel ).  \n",
    "maxLevel – Maximal level for drawn contours. If it is 0, only the specified contour is drawn. If it is 1, the function draws the contour(s) and all the nested contours. If it is 2, the function draws the contours, all the nested contours, all the nested-to-nested contours, and so on. This parameter is only taken into account when there is hierarchy available.  \n",
    "offset – Optional contour shift parameter. Shift all the drawn contours by the specified \\texttt{offset}=(dx,dy) .\n",
    "contour – Pointer to the first contour.\n",
    "external_color – Color of external contours.\n",
    "hole_color – Color of internal contours (holes)."
   ]
  }
 ],
 "metadata": {
  "kernelspec": {
   "display_name": "Python 3",
   "language": "python",
   "name": "python3"
  },
  "language_info": {
   "codemirror_mode": {
    "name": "ipython",
    "version": 3
   },
   "file_extension": ".py",
   "mimetype": "text/x-python",
   "name": "python",
   "nbconvert_exporter": "python",
   "pygments_lexer": "ipython3",
   "version": "3.5.0"
  }
 },
 "nbformat": 4,
 "nbformat_minor": 2
}
